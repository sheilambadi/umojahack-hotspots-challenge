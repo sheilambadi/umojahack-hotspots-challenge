{
  "nbformat": 4,
  "nbformat_minor": 0,
  "metadata": {
    "accelerator": "GPU",
    "colab": {
      "name": "UmojaHack_Hotspots_Team_Voodoo.ipynb",
      "provenance": [],
      "collapsed_sections": [],
      "toc_visible": true,
      "machine_shape": "hm",
      "include_colab_link": true
    },
    "kernelspec": {
      "display_name": "Python 3",
      "language": "python",
      "name": "python3"
    },
    "language_info": {
      "codemirror_mode": {
        "name": "ipython",
        "version": 3
      },
      "file_extension": ".py",
      "mimetype": "text/x-python",
      "name": "python",
      "nbconvert_exporter": "python",
      "pygments_lexer": "ipython3",
      "version": "3.7.3"
    }
  },
  "cells": [
    {
      "cell_type": "markdown",
      "metadata": {
        "id": "view-in-github",
        "colab_type": "text"
      },
      "source": [
        "<a href=\"https://colab.research.google.com/github/sheilambadi/umojahack-hotspots-challenge/blob/master/UmojaHack_Hotspots_Team_Voodoo.ipynb\" target=\"_parent\"><img src=\"https://colab.research.google.com/assets/colab-badge.svg\" alt=\"Open In Colab\"/></a>"
      ]
    },
    {
      "cell_type": "code",
      "metadata": {
        "id": "Umaqrx1_5HCj",
        "colab_type": "code",
        "outputId": "c9225f42-0b93-4ea4-eb48-d8add8634068",
        "colab": {
          "base_uri": "https://localhost:8080/",
          "height": 121
        }
      },
      "source": [
        "from google.colab import drive\n",
        "drive.mount('/content/drive')"
      ],
      "execution_count": 1,
      "outputs": [
        {
          "output_type": "stream",
          "text": [
            "Go to this URL in a browser: https://accounts.google.com/o/oauth2/auth?client_id=947318989803-6bn6qk8qdgf4n4g3pfee6491hc0brc4i.apps.googleusercontent.com&redirect_uri=urn%3aietf%3awg%3aoauth%3a2.0%3aoob&response_type=code&scope=email%20https%3a%2f%2fwww.googleapis.com%2fauth%2fdocs.test%20https%3a%2f%2fwww.googleapis.com%2fauth%2fdrive%20https%3a%2f%2fwww.googleapis.com%2fauth%2fdrive.photos.readonly%20https%3a%2f%2fwww.googleapis.com%2fauth%2fpeopleapi.readonly\n",
            "\n",
            "Enter your authorization code:\n",
            "··········\n",
            "Mounted at /content/drive\n"
          ],
          "name": "stdout"
        }
      ]
    },
    {
      "cell_type": "code",
      "metadata": {
        "id": "6xyStgpIDaKx",
        "colab_type": "code",
        "colab": {}
      },
      "source": [
        "!ls \"/content/drive/My Drive/Colab Notebooks/\""
      ],
      "execution_count": 0,
      "outputs": []
    },
    {
      "cell_type": "code",
      "metadata": {
        "id": "Jr-u0_CyEG5Y",
        "colab_type": "code",
        "colab": {}
      },
      "source": [
        "# Extract data\n",
        "# unzip -P your-password zipfile.zip"
      ],
      "execution_count": 0,
      "outputs": []
    },
    {
      "cell_type": "code",
      "metadata": {
        "id": "_Q4t9bHAZhMa",
        "colab_type": "code",
        "colab": {}
      },
      "source": [
        "!ls"
      ],
      "execution_count": 0,
      "outputs": []
    },
    {
      "cell_type": "code",
      "metadata": {
        "id": "E54f0VIYXA82",
        "colab_type": "code",
        "colab": {}
      },
      "source": [
        "!cp \"/content/drive/My Drive/Colab Notebooks/hotspot_data/train.csv\" train.csv \n",
        "!cp \"/content/drive/My Drive/Colab Notebooks/hotspot_data/test.csv\" test.csv \n",
        "!cp \"/content/drive/My Drive/Colab Notebooks/hotspot_data/SampleSubmission.csv\" SampleSubmission.csv \n",
        "!cp \"/content/drive/My Drive/Colab Notebooks/hotspot_data/VariableDefinitionsHotspot.csv\" VariableDefinitionsHotspot.csv "
      ],
      "execution_count": 0,
      "outputs": []
    },
    {
      "cell_type": "code",
      "metadata": {
        "id": "cveGaGByDohc",
        "colab_type": "code",
        "colab": {}
      },
      "source": [
        "# import libraries\n",
        "import numpy as np\n",
        "import pandas as pd\n",
        "import matplotlib.pyplot as plt\n",
        "import seaborn as sns\n",
        "plt.style.use('ggplot')\n",
        "\n",
        "import warnings\n",
        "warnings.filterwarnings('ignore')\n",
        "\n",
        "from scipy.stats import zscore\n",
        "\n",
        "from sklearn.linear_model import LinearRegression\n",
        "from sklearn.linear_model import Ridge\n",
        "from sklearn.linear_model import RidgeCV\n",
        "from sklearn.linear_model import Lasso\n",
        "from sklearn.linear_model import ElasticNet\n",
        "from sklearn.ensemble import BaggingRegressor\n",
        "from sklearn.ensemble import RandomForestRegressor\n",
        "from sklearn.ensemble import ExtraTreesRegressor\n",
        "from sklearn.tree import DecisionTreeRegressor\n",
        "from sklearn.neighbors import KNeighborsRegressor\n",
        "from sklearn.svm import SVR\n",
        "\n",
        "from sklearn.metrics import mean_squared_error\n",
        "from sklearn.ensemble import VotingRegressor"
      ],
      "execution_count": 0,
      "outputs": []
    },
    {
      "cell_type": "markdown",
      "metadata": {
        "id": "EUb_WKn_WXi2",
        "colab_type": "text"
      },
      "source": [
        "##Loading the data"
      ]
    },
    {
      "cell_type": "code",
      "metadata": {
        "id": "ML-ROt9tWwqF",
        "colab_type": "code",
        "outputId": "cf3732de-ec77-4bdb-e935-ef9a30259039",
        "colab": {
          "base_uri": "https://localhost:8080/",
          "height": 299
        }
      },
      "source": [
        "train = pd.read_csv('train.csv', parse_dates=['date'])\n",
        "train.head()"
      ],
      "execution_count": 30,
      "outputs": [
        {
          "output_type": "execute_result",
          "data": {
            "text/html": [
              "<div>\n",
              "<style scoped>\n",
              "    .dataframe tbody tr th:only-of-type {\n",
              "        vertical-align: middle;\n",
              "    }\n",
              "\n",
              "    .dataframe tbody tr th {\n",
              "        vertical-align: top;\n",
              "    }\n",
              "\n",
              "    .dataframe thead th {\n",
              "        text-align: right;\n",
              "    }\n",
              "</style>\n",
              "<table border=\"1\" class=\"dataframe\">\n",
              "  <thead>\n",
              "    <tr style=\"text-align: right;\">\n",
              "      <th></th>\n",
              "      <th>ID</th>\n",
              "      <th>area</th>\n",
              "      <th>date</th>\n",
              "      <th>lat</th>\n",
              "      <th>lon</th>\n",
              "      <th>burn_area</th>\n",
              "      <th>climate_aet</th>\n",
              "      <th>climate_def</th>\n",
              "      <th>climate_pdsi</th>\n",
              "      <th>climate_pet</th>\n",
              "      <th>climate_pr</th>\n",
              "      <th>climate_ro</th>\n",
              "      <th>climate_soil</th>\n",
              "      <th>climate_srad</th>\n",
              "      <th>climate_swe</th>\n",
              "      <th>climate_tmmn</th>\n",
              "      <th>climate_tmmx</th>\n",
              "      <th>climate_vap</th>\n",
              "      <th>climate_vpd</th>\n",
              "      <th>climate_vs</th>\n",
              "      <th>elevation</th>\n",
              "      <th>landcover_0</th>\n",
              "      <th>landcover_1</th>\n",
              "      <th>landcover_2</th>\n",
              "      <th>landcover_3</th>\n",
              "      <th>landcover_4</th>\n",
              "      <th>landcover_5</th>\n",
              "      <th>landcover_6</th>\n",
              "      <th>landcover_7</th>\n",
              "      <th>landcover_8</th>\n",
              "      <th>population_density</th>\n",
              "      <th>precipitation</th>\n",
              "    </tr>\n",
              "  </thead>\n",
              "  <tbody>\n",
              "    <tr>\n",
              "      <th>0</th>\n",
              "      <td>0_2000-04-01</td>\n",
              "      <td>0</td>\n",
              "      <td>2000-04-01</td>\n",
              "      <td>25.447</td>\n",
              "      <td>5.296</td>\n",
              "      <td>0.003688</td>\n",
              "      <td>1250.622712</td>\n",
              "      <td>0.0</td>\n",
              "      <td>-178.916305</td>\n",
              "      <td>1250.622712</td>\n",
              "      <td>158.387765</td>\n",
              "      <td>8.000000</td>\n",
              "      <td>498.913776</td>\n",
              "      <td>2143.430034</td>\n",
              "      <td>0.0</td>\n",
              "      <td>206.935453</td>\n",
              "      <td>323.873675</td>\n",
              "      <td>2508.795159</td>\n",
              "      <td>115.989282</td>\n",
              "      <td>129.825024</td>\n",
              "      <td>590.564102</td>\n",
              "      <td>0.0</td>\n",
              "      <td>0.0</td>\n",
              "      <td>0.350169</td>\n",
              "      <td>0.0</td>\n",
              "      <td>0.649524</td>\n",
              "      <td>0.0</td>\n",
              "      <td>0.000307</td>\n",
              "      <td>0.0</td>\n",
              "      <td>0.0</td>\n",
              "      <td>2.214262</td>\n",
              "      <td>0.198996</td>\n",
              "    </tr>\n",
              "    <tr>\n",
              "      <th>1</th>\n",
              "      <td>1_2000-04-01</td>\n",
              "      <td>1</td>\n",
              "      <td>2000-04-01</td>\n",
              "      <td>25.669</td>\n",
              "      <td>5.293</td>\n",
              "      <td>0.000000</td>\n",
              "      <td>1238.019166</td>\n",
              "      <td>0.0</td>\n",
              "      <td>-150.779947</td>\n",
              "      <td>1238.019166</td>\n",
              "      <td>164.645065</td>\n",
              "      <td>8.104576</td>\n",
              "      <td>590.346191</td>\n",
              "      <td>2132.253953</td>\n",
              "      <td>0.0</td>\n",
              "      <td>204.835170</td>\n",
              "      <td>321.838884</td>\n",
              "      <td>2500.432319</td>\n",
              "      <td>112.619789</td>\n",
              "      <td>129.471370</td>\n",
              "      <td>611.544277</td>\n",
              "      <td>0.0</td>\n",
              "      <td>0.0</td>\n",
              "      <td>0.429049</td>\n",
              "      <td>0.0</td>\n",
              "      <td>0.570644</td>\n",
              "      <td>0.0</td>\n",
              "      <td>0.000307</td>\n",
              "      <td>0.0</td>\n",
              "      <td>0.0</td>\n",
              "      <td>3.833042</td>\n",
              "      <td>0.188071</td>\n",
              "    </tr>\n",
              "    <tr>\n",
              "      <th>2</th>\n",
              "      <td>2_2000-04-01</td>\n",
              "      <td>2</td>\n",
              "      <td>2000-04-01</td>\n",
              "      <td>25.443</td>\n",
              "      <td>5.074</td>\n",
              "      <td>0.000000</td>\n",
              "      <td>1240.449964</td>\n",
              "      <td>0.0</td>\n",
              "      <td>-200.503858</td>\n",
              "      <td>1240.449964</td>\n",
              "      <td>163.699542</td>\n",
              "      <td>8.027851</td>\n",
              "      <td>536.613938</td>\n",
              "      <td>2139.632626</td>\n",
              "      <td>0.0</td>\n",
              "      <td>207.001206</td>\n",
              "      <td>321.846757</td>\n",
              "      <td>2519.259344</td>\n",
              "      <td>112.378707</td>\n",
              "      <td>127.550639</td>\n",
              "      <td>594.188987</td>\n",
              "      <td>0.0</td>\n",
              "      <td>0.0</td>\n",
              "      <td>0.238300</td>\n",
              "      <td>0.0</td>\n",
              "      <td>0.761700</td>\n",
              "      <td>0.0</td>\n",
              "      <td>0.000000</td>\n",
              "      <td>0.0</td>\n",
              "      <td>0.0</td>\n",
              "      <td>1.927303</td>\n",
              "      <td>0.211730</td>\n",
              "    </tr>\n",
              "    <tr>\n",
              "      <th>3</th>\n",
              "      <td>3_2000-04-01</td>\n",
              "      <td>3</td>\n",
              "      <td>2000-04-01</td>\n",
              "      <td>25.665</td>\n",
              "      <td>5.070</td>\n",
              "      <td>0.000000</td>\n",
              "      <td>1229.240077</td>\n",
              "      <td>0.0</td>\n",
              "      <td>-177.011032</td>\n",
              "      <td>1229.240077</td>\n",
              "      <td>172.996043</td>\n",
              "      <td>8.820002</td>\n",
              "      <td>648.271615</td>\n",
              "      <td>2125.206979</td>\n",
              "      <td>0.0</td>\n",
              "      <td>204.127473</td>\n",
              "      <td>319.348123</td>\n",
              "      <td>2493.392613</td>\n",
              "      <td>109.132390</td>\n",
              "      <td>131.703082</td>\n",
              "      <td>645.362481</td>\n",
              "      <td>0.0</td>\n",
              "      <td>0.0</td>\n",
              "      <td>0.488146</td>\n",
              "      <td>0.0</td>\n",
              "      <td>0.511854</td>\n",
              "      <td>0.0</td>\n",
              "      <td>0.000000</td>\n",
              "      <td>0.0</td>\n",
              "      <td>0.0</td>\n",
              "      <td>1.878281</td>\n",
              "      <td>0.215403</td>\n",
              "    </tr>\n",
              "    <tr>\n",
              "      <th>4</th>\n",
              "      <td>4_2000-04-01</td>\n",
              "      <td>4</td>\n",
              "      <td>2000-04-01</td>\n",
              "      <td>25.886</td>\n",
              "      <td>5.067</td>\n",
              "      <td>0.000307</td>\n",
              "      <td>1224.093679</td>\n",
              "      <td>0.0</td>\n",
              "      <td>-153.256111</td>\n",
              "      <td>1224.093679</td>\n",
              "      <td>178.396749</td>\n",
              "      <td>9.000000</td>\n",
              "      <td>719.423119</td>\n",
              "      <td>2114.709813</td>\n",
              "      <td>0.0</td>\n",
              "      <td>203.295123</td>\n",
              "      <td>318.639735</td>\n",
              "      <td>2487.984467</td>\n",
              "      <td>108.161469</td>\n",
              "      <td>133.354846</td>\n",
              "      <td>660.372381</td>\n",
              "      <td>0.0</td>\n",
              "      <td>0.0</td>\n",
              "      <td>0.322243</td>\n",
              "      <td>0.0</td>\n",
              "      <td>0.677757</td>\n",
              "      <td>0.0</td>\n",
              "      <td>0.000000</td>\n",
              "      <td>0.0</td>\n",
              "      <td>0.0</td>\n",
              "      <td>1.968818</td>\n",
              "      <td>0.199975</td>\n",
              "    </tr>\n",
              "  </tbody>\n",
              "</table>\n",
              "</div>"
            ],
            "text/plain": [
              "             ID  area  ... population_density  precipitation\n",
              "0  0_2000-04-01     0  ...           2.214262       0.198996\n",
              "1  1_2000-04-01     1  ...           3.833042       0.188071\n",
              "2  2_2000-04-01     2  ...           1.927303       0.211730\n",
              "3  3_2000-04-01     3  ...           1.878281       0.215403\n",
              "4  4_2000-04-01     4  ...           1.968818       0.199975\n",
              "\n",
              "[5 rows x 32 columns]"
            ]
          },
          "metadata": {
            "tags": []
          },
          "execution_count": 30
        }
      ]
    },
    {
      "cell_type": "code",
      "metadata": {
        "id": "i7R0qUjQugmL",
        "colab_type": "code",
        "outputId": "a29e99d8-6549-44be-e8b8-cce924cddbbe",
        "colab": {
          "base_uri": "https://localhost:8080/",
          "height": 34
        }
      },
      "source": [
        "train.shape"
      ],
      "execution_count": 11,
      "outputs": [
        {
          "output_type": "execute_result",
          "data": {
            "text/plain": [
              "(626644, 32)"
            ]
          },
          "metadata": {
            "tags": []
          },
          "execution_count": 11
        }
      ]
    },
    {
      "cell_type": "code",
      "metadata": {
        "id": "QL5BRxGeakmb",
        "colab_type": "code",
        "outputId": "2a0de0e6-0c83-49b0-b1a6-85ea749226c5",
        "colab": {
          "base_uri": "https://localhost:8080/",
          "height": 114
        }
      },
      "source": [
        "test = pd.read_csv('test.csv', parse_dates=['date'])\n",
        "test.head(1)"
      ],
      "execution_count": 31,
      "outputs": [
        {
          "output_type": "execute_result",
          "data": {
            "text/html": [
              "<div>\n",
              "<style scoped>\n",
              "    .dataframe tbody tr th:only-of-type {\n",
              "        vertical-align: middle;\n",
              "    }\n",
              "\n",
              "    .dataframe tbody tr th {\n",
              "        vertical-align: top;\n",
              "    }\n",
              "\n",
              "    .dataframe thead th {\n",
              "        text-align: right;\n",
              "    }\n",
              "</style>\n",
              "<table border=\"1\" class=\"dataframe\">\n",
              "  <thead>\n",
              "    <tr style=\"text-align: right;\">\n",
              "      <th></th>\n",
              "      <th>ID</th>\n",
              "      <th>area</th>\n",
              "      <th>date</th>\n",
              "      <th>lat</th>\n",
              "      <th>lon</th>\n",
              "      <th>burn_area</th>\n",
              "      <th>climate_aet</th>\n",
              "      <th>climate_def</th>\n",
              "      <th>climate_pdsi</th>\n",
              "      <th>climate_pet</th>\n",
              "      <th>climate_pr</th>\n",
              "      <th>climate_ro</th>\n",
              "      <th>climate_soil</th>\n",
              "      <th>climate_srad</th>\n",
              "      <th>climate_swe</th>\n",
              "      <th>climate_tmmn</th>\n",
              "      <th>climate_tmmx</th>\n",
              "      <th>climate_vap</th>\n",
              "      <th>climate_vpd</th>\n",
              "      <th>climate_vs</th>\n",
              "      <th>elevation</th>\n",
              "      <th>landcover_0</th>\n",
              "      <th>landcover_1</th>\n",
              "      <th>landcover_2</th>\n",
              "      <th>landcover_3</th>\n",
              "      <th>landcover_4</th>\n",
              "      <th>landcover_5</th>\n",
              "      <th>landcover_6</th>\n",
              "      <th>landcover_7</th>\n",
              "      <th>landcover_8</th>\n",
              "      <th>population_density</th>\n",
              "      <th>precipitation</th>\n",
              "    </tr>\n",
              "  </thead>\n",
              "  <tbody>\n",
              "    <tr>\n",
              "      <th>0</th>\n",
              "      <td>0_2014-01-01</td>\n",
              "      <td>0</td>\n",
              "      <td>2014-01-01</td>\n",
              "      <td>25.447</td>\n",
              "      <td>5.296</td>\n",
              "      <td>0</td>\n",
              "      <td>142.756021</td>\n",
              "      <td>1217.92618</td>\n",
              "      <td>-953.401012</td>\n",
              "      <td>1360.571291</td>\n",
              "      <td>1.0</td>\n",
              "      <td>0.0</td>\n",
              "      <td>355.59369</td>\n",
              "      <td>2349.499157</td>\n",
              "      <td>0.0</td>\n",
              "      <td>187.541787</td>\n",
              "      <td>332.578998</td>\n",
              "      <td>2542.124518</td>\n",
              "      <td>111.013969</td>\n",
              "      <td>156.563945</td>\n",
              "      <td>590.564102</td>\n",
              "      <td>0.0</td>\n",
              "      <td>0.0</td>\n",
              "      <td>0.430648</td>\n",
              "      <td>0.0</td>\n",
              "      <td>0.569045</td>\n",
              "      <td>0.0</td>\n",
              "      <td>0.000307</td>\n",
              "      <td>0.0</td>\n",
              "      <td>0.0</td>\n",
              "      <td>2.773423</td>\n",
              "      <td>0.000457</td>\n",
              "    </tr>\n",
              "  </tbody>\n",
              "</table>\n",
              "</div>"
            ],
            "text/plain": [
              "             ID  area  ... population_density  precipitation\n",
              "0  0_2014-01-01     0  ...           2.773423       0.000457\n",
              "\n",
              "[1 rows x 32 columns]"
            ]
          },
          "metadata": {
            "tags": []
          },
          "execution_count": 31
        }
      ]
    },
    {
      "cell_type": "code",
      "metadata": {
        "id": "h_5SVriqsbgH",
        "colab_type": "code",
        "colab": {
          "base_uri": "https://localhost:8080/",
          "height": 994
        },
        "outputId": "d18e523b-a831-406b-f1cf-3cfe42400274"
      },
      "source": [
        "variables = pd.read_csv('VariableDefinitionsHotspot.csv')\n",
        "variables"
      ],
      "execution_count": 13,
      "outputs": [
        {
          "output_type": "execute_result",
          "data": {
            "text/html": [
              "<div>\n",
              "<style scoped>\n",
              "    .dataframe tbody tr th:only-of-type {\n",
              "        vertical-align: middle;\n",
              "    }\n",
              "\n",
              "    .dataframe tbody tr th {\n",
              "        vertical-align: top;\n",
              "    }\n",
              "\n",
              "    .dataframe thead th {\n",
              "        text-align: right;\n",
              "    }\n",
              "</style>\n",
              "<table border=\"1\" class=\"dataframe\">\n",
              "  <thead>\n",
              "    <tr style=\"text-align: right;\">\n",
              "      <th></th>\n",
              "      <th>Variable</th>\n",
              "      <th>Description</th>\n",
              "    </tr>\n",
              "  </thead>\n",
              "  <tbody>\n",
              "    <tr>\n",
              "      <th>0</th>\n",
              "      <td>ID</td>\n",
              "      <td>The IDs take the form of [area ID]_yyyy-mm-dd....</td>\n",
              "    </tr>\n",
              "    <tr>\n",
              "      <th>1</th>\n",
              "      <td>area</td>\n",
              "      <td>Area ID</td>\n",
              "    </tr>\n",
              "    <tr>\n",
              "      <th>2</th>\n",
              "      <td>date</td>\n",
              "      <td>The date that the data is aggregated over</td>\n",
              "    </tr>\n",
              "    <tr>\n",
              "      <th>3</th>\n",
              "      <td>lat</td>\n",
              "      <td>Latitude of the center of the area</td>\n",
              "    </tr>\n",
              "    <tr>\n",
              "      <th>4</th>\n",
              "      <td>lon</td>\n",
              "      <td>Longitude of the center of the area</td>\n",
              "    </tr>\n",
              "    <tr>\n",
              "      <th>5</th>\n",
              "      <td>burn_area</td>\n",
              "      <td>Percentage of the area burnt</td>\n",
              "    </tr>\n",
              "    <tr>\n",
              "      <th>6</th>\n",
              "      <td>climate_aet</td>\n",
              "      <td>Actual evapotranspiration, derived using a one...</td>\n",
              "    </tr>\n",
              "    <tr>\n",
              "      <th>7</th>\n",
              "      <td>climate_def</td>\n",
              "      <td>Climate water deficit, derived using a one-dim...</td>\n",
              "    </tr>\n",
              "    <tr>\n",
              "      <th>8</th>\n",
              "      <td>climate_pdsi</td>\n",
              "      <td>Palmer Drought Severity Index</td>\n",
              "    </tr>\n",
              "    <tr>\n",
              "      <th>9</th>\n",
              "      <td>climate_pet</td>\n",
              "      <td>Reference evapotranspiration (ASCE Penman-Mont...</td>\n",
              "    </tr>\n",
              "    <tr>\n",
              "      <th>10</th>\n",
              "      <td>climate_pr</td>\n",
              "      <td>Precipitation accumulation</td>\n",
              "    </tr>\n",
              "    <tr>\n",
              "      <th>11</th>\n",
              "      <td>climate_ro</td>\n",
              "      <td>Runoff, derived using a one-dimensional soil w...</td>\n",
              "    </tr>\n",
              "    <tr>\n",
              "      <th>12</th>\n",
              "      <td>climate_soil</td>\n",
              "      <td>Soil moisture, derived using a one-dimensional...</td>\n",
              "    </tr>\n",
              "    <tr>\n",
              "      <th>13</th>\n",
              "      <td>climate_srad</td>\n",
              "      <td>Downward surface shortwave radiation</td>\n",
              "    </tr>\n",
              "    <tr>\n",
              "      <th>14</th>\n",
              "      <td>climate_swe</td>\n",
              "      <td>Snow water equivalent, derived using a one-dim...</td>\n",
              "    </tr>\n",
              "    <tr>\n",
              "      <th>15</th>\n",
              "      <td>climate_tmmn</td>\n",
              "      <td>Minimum temperature</td>\n",
              "    </tr>\n",
              "    <tr>\n",
              "      <th>16</th>\n",
              "      <td>climate_tmmx</td>\n",
              "      <td>Maximum temperature</td>\n",
              "    </tr>\n",
              "    <tr>\n",
              "      <th>17</th>\n",
              "      <td>climate_vap</td>\n",
              "      <td>Vapor pressure</td>\n",
              "    </tr>\n",
              "    <tr>\n",
              "      <th>18</th>\n",
              "      <td>climate_vpd</td>\n",
              "      <td>Vapor pressure deficit</td>\n",
              "    </tr>\n",
              "    <tr>\n",
              "      <th>19</th>\n",
              "      <td>climate_vs</td>\n",
              "      <td>Wind-speed at 10m</td>\n",
              "    </tr>\n",
              "    <tr>\n",
              "      <th>20</th>\n",
              "      <td>elevation</td>\n",
              "      <td>Land elevation</td>\n",
              "    </tr>\n",
              "    <tr>\n",
              "      <th>21</th>\n",
              "      <td>landcover_0</td>\n",
              "      <td>Water Bodies: at least 60% of area is covered ...</td>\n",
              "    </tr>\n",
              "    <tr>\n",
              "      <th>22</th>\n",
              "      <td>landcover_1</td>\n",
              "      <td>Evergreen Needleleaf Vegetation: dominated by ...</td>\n",
              "    </tr>\n",
              "    <tr>\n",
              "      <th>23</th>\n",
              "      <td>landcover_2</td>\n",
              "      <td>Evergreen Broadleaf Vegetation: dominated by e...</td>\n",
              "    </tr>\n",
              "    <tr>\n",
              "      <th>24</th>\n",
              "      <td>landcover_3</td>\n",
              "      <td>Deciduous Needleleaf Vegetation: dominated by ...</td>\n",
              "    </tr>\n",
              "    <tr>\n",
              "      <th>25</th>\n",
              "      <td>landcover_4</td>\n",
              "      <td>Deciduous Broadleaf Vegetation: dominated by d...</td>\n",
              "    </tr>\n",
              "    <tr>\n",
              "      <th>26</th>\n",
              "      <td>landcover_5</td>\n",
              "      <td>Annual Broadleaf Vegetation: dominated by herb...</td>\n",
              "    </tr>\n",
              "    <tr>\n",
              "      <th>27</th>\n",
              "      <td>landcover_6</td>\n",
              "      <td>Annual Grass Vegetation: dominated by herbaceo...</td>\n",
              "    </tr>\n",
              "    <tr>\n",
              "      <th>28</th>\n",
              "      <td>landcover_7</td>\n",
              "      <td>Non-Vegetated Lands: at least 60% of area is n...</td>\n",
              "    </tr>\n",
              "    <tr>\n",
              "      <th>29</th>\n",
              "      <td>landcover_8</td>\n",
              "      <td>Urban and Built-up Lands: at least 30% impervi...</td>\n",
              "    </tr>\n",
              "    <tr>\n",
              "      <th>30</th>\n",
              "      <td>population_density</td>\n",
              "      <td>The estimated number of persons per square kil...</td>\n",
              "    </tr>\n",
              "    <tr>\n",
              "      <th>31</th>\n",
              "      <td>precipitation</td>\n",
              "      <td>Merged microwave/IR precipitation estimate</td>\n",
              "    </tr>\n",
              "  </tbody>\n",
              "</table>\n",
              "</div>"
            ],
            "text/plain": [
              "              Variable                                        Description\n",
              "0                   ID  The IDs take the form of [area ID]_yyyy-mm-dd....\n",
              "1                 area                                            Area ID\n",
              "2                 date          The date that the data is aggregated over\n",
              "3                  lat                 Latitude of the center of the area\n",
              "4                  lon                Longitude of the center of the area\n",
              "5            burn_area                       Percentage of the area burnt\n",
              "6          climate_aet  Actual evapotranspiration, derived using a one...\n",
              "7          climate_def  Climate water deficit, derived using a one-dim...\n",
              "8         climate_pdsi                      Palmer Drought Severity Index\n",
              "9          climate_pet  Reference evapotranspiration (ASCE Penman-Mont...\n",
              "10          climate_pr                         Precipitation accumulation\n",
              "11          climate_ro  Runoff, derived using a one-dimensional soil w...\n",
              "12        climate_soil  Soil moisture, derived using a one-dimensional...\n",
              "13        climate_srad               Downward surface shortwave radiation\n",
              "14         climate_swe  Snow water equivalent, derived using a one-dim...\n",
              "15        climate_tmmn                                Minimum temperature\n",
              "16        climate_tmmx                                Maximum temperature\n",
              "17         climate_vap                                     Vapor pressure\n",
              "18         climate_vpd                             Vapor pressure deficit\n",
              "19          climate_vs                                  Wind-speed at 10m\n",
              "20           elevation                                     Land elevation\n",
              "21         landcover_0  Water Bodies: at least 60% of area is covered ...\n",
              "22         landcover_1  Evergreen Needleleaf Vegetation: dominated by ...\n",
              "23         landcover_2  Evergreen Broadleaf Vegetation: dominated by e...\n",
              "24         landcover_3  Deciduous Needleleaf Vegetation: dominated by ...\n",
              "25         landcover_4  Deciduous Broadleaf Vegetation: dominated by d...\n",
              "26         landcover_5  Annual Broadleaf Vegetation: dominated by herb...\n",
              "27         landcover_6  Annual Grass Vegetation: dominated by herbaceo...\n",
              "28         landcover_7  Non-Vegetated Lands: at least 60% of area is n...\n",
              "29         landcover_8  Urban and Built-up Lands: at least 30% impervi...\n",
              "30  population_density  The estimated number of persons per square kil...\n",
              "31       precipitation         Merged microwave/IR precipitation estimate"
            ]
          },
          "metadata": {
            "tags": []
          },
          "execution_count": 13
        }
      ]
    },
    {
      "cell_type": "markdown",
      "metadata": {
        "id": "b0A2xGrZbmNd",
        "colab_type": "text"
      },
      "source": [
        "##Descriptive Statistics of Data"
      ]
    },
    {
      "cell_type": "code",
      "metadata": {
        "id": "k2PRrB_WbnLZ",
        "colab_type": "code",
        "colab": {
          "base_uri": "https://localhost:8080/",
          "height": 638
        },
        "outputId": "3558d3bd-43e4-4783-fe6f-0c1d64e1fd4c"
      },
      "source": [
        "train.info()"
      ],
      "execution_count": 14,
      "outputs": [
        {
          "output_type": "stream",
          "text": [
            "<class 'pandas.core.frame.DataFrame'>\n",
            "RangeIndex: 626644 entries, 0 to 626643\n",
            "Data columns (total 32 columns):\n",
            "ID                    626644 non-null object\n",
            "area                  626644 non-null int64\n",
            "date                  626644 non-null datetime64[ns]\n",
            "lat                   626644 non-null float64\n",
            "lon                   626644 non-null float64\n",
            "burn_area             626644 non-null float64\n",
            "climate_aet           626644 non-null float64\n",
            "climate_def           626644 non-null float64\n",
            "climate_pdsi          626644 non-null float64\n",
            "climate_pet           626644 non-null float64\n",
            "climate_pr            626644 non-null float64\n",
            "climate_ro            626644 non-null float64\n",
            "climate_soil          626644 non-null float64\n",
            "climate_srad          626644 non-null float64\n",
            "climate_swe           626644 non-null float64\n",
            "climate_tmmn          626644 non-null float64\n",
            "climate_tmmx          626644 non-null float64\n",
            "climate_vap           626644 non-null float64\n",
            "climate_vpd           626644 non-null float64\n",
            "climate_vs            626644 non-null float64\n",
            "elevation             626644 non-null float64\n",
            "landcover_0           626644 non-null float64\n",
            "landcover_1           626644 non-null float64\n",
            "landcover_2           626644 non-null float64\n",
            "landcover_3           626644 non-null float64\n",
            "landcover_4           626644 non-null float64\n",
            "landcover_5           626644 non-null float64\n",
            "landcover_6           626644 non-null float64\n",
            "landcover_7           626644 non-null float64\n",
            "landcover_8           626644 non-null float64\n",
            "population_density    607128 non-null float64\n",
            "precipitation         626644 non-null float64\n",
            "dtypes: datetime64[ns](1), float64(29), int64(1), object(1)\n",
            "memory usage: 153.0+ MB\n"
          ],
          "name": "stdout"
        }
      ]
    },
    {
      "cell_type": "code",
      "metadata": {
        "id": "eCkbhoTAcNkx",
        "colab_type": "code",
        "colab": {
          "base_uri": "https://localhost:8080/",
          "height": 571
        },
        "outputId": "d0f1a116-536a-4eea-9261-063508b17d03"
      },
      "source": [
        "# check for missing values\n",
        "train.isnull().sum()"
      ],
      "execution_count": 15,
      "outputs": [
        {
          "output_type": "execute_result",
          "data": {
            "text/plain": [
              "ID                        0\n",
              "area                      0\n",
              "date                      0\n",
              "lat                       0\n",
              "lon                       0\n",
              "burn_area                 0\n",
              "climate_aet               0\n",
              "climate_def               0\n",
              "climate_pdsi              0\n",
              "climate_pet               0\n",
              "climate_pr                0\n",
              "climate_ro                0\n",
              "climate_soil              0\n",
              "climate_srad              0\n",
              "climate_swe               0\n",
              "climate_tmmn              0\n",
              "climate_tmmx              0\n",
              "climate_vap               0\n",
              "climate_vpd               0\n",
              "climate_vs                0\n",
              "elevation                 0\n",
              "landcover_0               0\n",
              "landcover_1               0\n",
              "landcover_2               0\n",
              "landcover_3               0\n",
              "landcover_4               0\n",
              "landcover_5               0\n",
              "landcover_6               0\n",
              "landcover_7               0\n",
              "landcover_8               0\n",
              "population_density    19516\n",
              "precipitation             0\n",
              "dtype: int64"
            ]
          },
          "metadata": {
            "tags": []
          },
          "execution_count": 15
        }
      ]
    },
    {
      "cell_type": "code",
      "metadata": {
        "id": "EikNX9X5cXTW",
        "colab_type": "code",
        "outputId": "876b01ae-925f-41ab-c986-4b6b3337b2ab",
        "colab": {
          "base_uri": "https://localhost:8080/",
          "height": 935
        }
      },
      "source": [
        "train.describe().T"
      ],
      "execution_count": 16,
      "outputs": [
        {
          "output_type": "execute_result",
          "data": {
            "text/html": [
              "<div>\n",
              "<style scoped>\n",
              "    .dataframe tbody tr th:only-of-type {\n",
              "        vertical-align: middle;\n",
              "    }\n",
              "\n",
              "    .dataframe tbody tr th {\n",
              "        vertical-align: top;\n",
              "    }\n",
              "\n",
              "    .dataframe thead th {\n",
              "        text-align: right;\n",
              "    }\n",
              "</style>\n",
              "<table border=\"1\" class=\"dataframe\">\n",
              "  <thead>\n",
              "    <tr style=\"text-align: right;\">\n",
              "      <th></th>\n",
              "      <th>count</th>\n",
              "      <th>mean</th>\n",
              "      <th>std</th>\n",
              "      <th>min</th>\n",
              "      <th>25%</th>\n",
              "      <th>50%</th>\n",
              "      <th>75%</th>\n",
              "      <th>max</th>\n",
              "    </tr>\n",
              "  </thead>\n",
              "  <tbody>\n",
              "    <tr>\n",
              "      <th>area</th>\n",
              "      <td>626644.0</td>\n",
              "      <td>1.910000e+03</td>\n",
              "      <td>1103.028532</td>\n",
              "      <td>0.000000</td>\n",
              "      <td>955.000000</td>\n",
              "      <td>1910.000000</td>\n",
              "      <td>2865.000000</td>\n",
              "      <td>3820.000000</td>\n",
              "    </tr>\n",
              "    <tr>\n",
              "      <th>lat</th>\n",
              "      <td>626644.0</td>\n",
              "      <td>2.374398e+01</td>\n",
              "      <td>3.892348</td>\n",
              "      <td>12.416000</td>\n",
              "      <td>20.741000</td>\n",
              "      <td>24.107000</td>\n",
              "      <td>26.956000</td>\n",
              "      <td>31.096000</td>\n",
              "    </tr>\n",
              "    <tr>\n",
              "      <th>lon</th>\n",
              "      <td>626644.0</td>\n",
              "      <td>-2.859994e+00</td>\n",
              "      <td>4.397921</td>\n",
              "      <td>-13.394000</td>\n",
              "      <td>-6.146000</td>\n",
              "      <td>-2.945000</td>\n",
              "      <td>0.857000</td>\n",
              "      <td>5.296000</td>\n",
              "    </tr>\n",
              "    <tr>\n",
              "      <th>burn_area</th>\n",
              "      <td>626644.0</td>\n",
              "      <td>1.490376e-02</td>\n",
              "      <td>0.061526</td>\n",
              "      <td>0.000000</td>\n",
              "      <td>0.000000</td>\n",
              "      <td>0.000000</td>\n",
              "      <td>0.000000</td>\n",
              "      <td>0.952641</td>\n",
              "    </tr>\n",
              "    <tr>\n",
              "      <th>climate_aet</th>\n",
              "      <td>626644.0</td>\n",
              "      <td>8.689074e+02</td>\n",
              "      <td>287.975104</td>\n",
              "      <td>7.438208</td>\n",
              "      <td>781.852462</td>\n",
              "      <td>954.076835</td>\n",
              "      <td>1056.306879</td>\n",
              "      <td>1666.262670</td>\n",
              "    </tr>\n",
              "    <tr>\n",
              "      <th>climate_def</th>\n",
              "      <td>626644.0</td>\n",
              "      <td>2.235093e+02</td>\n",
              "      <td>372.066304</td>\n",
              "      <td>0.000000</td>\n",
              "      <td>0.000000</td>\n",
              "      <td>0.000000</td>\n",
              "      <td>333.155481</td>\n",
              "      <td>2048.897442</td>\n",
              "    </tr>\n",
              "    <tr>\n",
              "      <th>climate_pdsi</th>\n",
              "      <td>626644.0</td>\n",
              "      <td>-2.587147e+02</td>\n",
              "      <td>331.469776</td>\n",
              "      <td>-1387.832916</td>\n",
              "      <td>-467.326288</td>\n",
              "      <td>-293.756227</td>\n",
              "      <td>-110.273937</td>\n",
              "      <td>1131.222423</td>\n",
              "    </tr>\n",
              "    <tr>\n",
              "      <th>climate_pet</th>\n",
              "      <td>626644.0</td>\n",
              "      <td>1.092417e+03</td>\n",
              "      <td>170.072823</td>\n",
              "      <td>510.639390</td>\n",
              "      <td>973.879811</td>\n",
              "      <td>1068.663459</td>\n",
              "      <td>1184.196489</td>\n",
              "      <td>2125.220848</td>\n",
              "    </tr>\n",
              "    <tr>\n",
              "      <th>climate_pr</th>\n",
              "      <td>626644.0</td>\n",
              "      <td>1.258686e+02</td>\n",
              "      <td>86.558539</td>\n",
              "      <td>0.000000</td>\n",
              "      <td>54.756412</td>\n",
              "      <td>128.187523</td>\n",
              "      <td>184.165079</td>\n",
              "      <td>1111.881507</td>\n",
              "    </tr>\n",
              "    <tr>\n",
              "      <th>climate_ro</th>\n",
              "      <td>626644.0</td>\n",
              "      <td>3.882393e+01</td>\n",
              "      <td>55.748898</td>\n",
              "      <td>0.000000</td>\n",
              "      <td>2.998071</td>\n",
              "      <td>8.000000</td>\n",
              "      <td>63.968079</td>\n",
              "      <td>1028.775818</td>\n",
              "    </tr>\n",
              "    <tr>\n",
              "      <th>climate_soil</th>\n",
              "      <td>626644.0</td>\n",
              "      <td>9.394601e+02</td>\n",
              "      <td>665.643975</td>\n",
              "      <td>21.507944</td>\n",
              "      <td>385.369020</td>\n",
              "      <td>772.587434</td>\n",
              "      <td>1362.433666</td>\n",
              "      <td>3508.381210</td>\n",
              "    </tr>\n",
              "    <tr>\n",
              "      <th>climate_srad</th>\n",
              "      <td>626644.0</td>\n",
              "      <td>1.893145e+03</td>\n",
              "      <td>269.334818</td>\n",
              "      <td>696.514959</td>\n",
              "      <td>1707.282363</td>\n",
              "      <td>1890.893983</td>\n",
              "      <td>2078.610153</td>\n",
              "      <td>2962.535010</td>\n",
              "    </tr>\n",
              "    <tr>\n",
              "      <th>climate_swe</th>\n",
              "      <td>626644.0</td>\n",
              "      <td>6.250306e-07</td>\n",
              "      <td>0.000365</td>\n",
              "      <td>0.000000</td>\n",
              "      <td>0.000000</td>\n",
              "      <td>0.000000</td>\n",
              "      <td>0.000000</td>\n",
              "      <td>0.277248</td>\n",
              "    </tr>\n",
              "    <tr>\n",
              "      <th>climate_tmmn</th>\n",
              "      <td>626644.0</td>\n",
              "      <td>1.857180e+02</td>\n",
              "      <td>24.548665</td>\n",
              "      <td>38.863690</td>\n",
              "      <td>176.514720</td>\n",
              "      <td>191.908987</td>\n",
              "      <td>201.358784</td>\n",
              "      <td>251.821796</td>\n",
              "    </tr>\n",
              "    <tr>\n",
              "      <th>climate_tmmx</th>\n",
              "      <td>626644.0</td>\n",
              "      <td>2.991491e+02</td>\n",
              "      <td>18.169408</td>\n",
              "      <td>148.171487</td>\n",
              "      <td>291.448015</td>\n",
              "      <td>300.363332</td>\n",
              "      <td>309.136060</td>\n",
              "      <td>374.382920</td>\n",
              "    </tr>\n",
              "    <tr>\n",
              "      <th>climate_vap</th>\n",
              "      <td>626644.0</td>\n",
              "      <td>2.331860e+03</td>\n",
              "      <td>391.920264</td>\n",
              "      <td>806.692753</td>\n",
              "      <td>2152.248206</td>\n",
              "      <td>2434.875742</td>\n",
              "      <td>2613.203412</td>\n",
              "      <td>3192.843792</td>\n",
              "    </tr>\n",
              "    <tr>\n",
              "      <th>climate_vpd</th>\n",
              "      <td>626644.0</td>\n",
              "      <td>8.847116e+01</td>\n",
              "      <td>33.756141</td>\n",
              "      <td>0.000000</td>\n",
              "      <td>66.639851</td>\n",
              "      <td>80.557314</td>\n",
              "      <td>101.447069</td>\n",
              "      <td>313.996748</td>\n",
              "    </tr>\n",
              "    <tr>\n",
              "      <th>climate_vs</th>\n",
              "      <td>626644.0</td>\n",
              "      <td>1.429748e+02</td>\n",
              "      <td>49.427436</td>\n",
              "      <td>47.621263</td>\n",
              "      <td>106.740654</td>\n",
              "      <td>133.116391</td>\n",
              "      <td>170.041921</td>\n",
              "      <td>463.386183</td>\n",
              "    </tr>\n",
              "    <tr>\n",
              "      <th>elevation</th>\n",
              "      <td>626644.0</td>\n",
              "      <td>6.919382e+02</td>\n",
              "      <td>330.924429</td>\n",
              "      <td>40.145363</td>\n",
              "      <td>450.612068</td>\n",
              "      <td>598.579235</td>\n",
              "      <td>865.704085</td>\n",
              "      <td>2711.961772</td>\n",
              "    </tr>\n",
              "    <tr>\n",
              "      <th>landcover_0</th>\n",
              "      <td>626644.0</td>\n",
              "      <td>1.245247e-02</td>\n",
              "      <td>0.088407</td>\n",
              "      <td>0.000000</td>\n",
              "      <td>0.000000</td>\n",
              "      <td>0.000000</td>\n",
              "      <td>0.000000</td>\n",
              "      <td>1.000000</td>\n",
              "    </tr>\n",
              "    <tr>\n",
              "      <th>landcover_1</th>\n",
              "      <td>626644.0</td>\n",
              "      <td>3.551044e-05</td>\n",
              "      <td>0.000709</td>\n",
              "      <td>0.000000</td>\n",
              "      <td>0.000000</td>\n",
              "      <td>0.000000</td>\n",
              "      <td>0.000000</td>\n",
              "      <td>0.044034</td>\n",
              "    </tr>\n",
              "    <tr>\n",
              "      <th>landcover_2</th>\n",
              "      <td>626644.0</td>\n",
              "      <td>7.714775e-01</td>\n",
              "      <td>0.327120</td>\n",
              "      <td>0.000000</td>\n",
              "      <td>0.590311</td>\n",
              "      <td>0.975270</td>\n",
              "      <td>1.000000</td>\n",
              "      <td>1.000000</td>\n",
              "    </tr>\n",
              "    <tr>\n",
              "      <th>landcover_3</th>\n",
              "      <td>626644.0</td>\n",
              "      <td>1.397882e-07</td>\n",
              "      <td>0.000007</td>\n",
              "      <td>0.000000</td>\n",
              "      <td>0.000000</td>\n",
              "      <td>0.000000</td>\n",
              "      <td>0.000000</td>\n",
              "      <td>0.000615</td>\n",
              "    </tr>\n",
              "    <tr>\n",
              "      <th>landcover_4</th>\n",
              "      <td>626644.0</td>\n",
              "      <td>1.881890e-01</td>\n",
              "      <td>0.314002</td>\n",
              "      <td>0.000000</td>\n",
              "      <td>0.000000</td>\n",
              "      <td>0.000000</td>\n",
              "      <td>0.298845</td>\n",
              "      <td>1.000000</td>\n",
              "    </tr>\n",
              "    <tr>\n",
              "      <th>landcover_5</th>\n",
              "      <td>626644.0</td>\n",
              "      <td>2.661026e-04</td>\n",
              "      <td>0.004851</td>\n",
              "      <td>0.000000</td>\n",
              "      <td>0.000000</td>\n",
              "      <td>0.000000</td>\n",
              "      <td>0.000000</td>\n",
              "      <td>0.197675</td>\n",
              "    </tr>\n",
              "    <tr>\n",
              "      <th>landcover_6</th>\n",
              "      <td>626644.0</td>\n",
              "      <td>2.638244e-02</td>\n",
              "      <td>0.086140</td>\n",
              "      <td>0.000000</td>\n",
              "      <td>0.000000</td>\n",
              "      <td>0.000307</td>\n",
              "      <td>0.010451</td>\n",
              "      <td>0.991276</td>\n",
              "    </tr>\n",
              "    <tr>\n",
              "      <th>landcover_7</th>\n",
              "      <td>626644.0</td>\n",
              "      <td>3.968510e-05</td>\n",
              "      <td>0.000533</td>\n",
              "      <td>0.000000</td>\n",
              "      <td>0.000000</td>\n",
              "      <td>0.000000</td>\n",
              "      <td>0.000000</td>\n",
              "      <td>0.023099</td>\n",
              "    </tr>\n",
              "    <tr>\n",
              "      <th>landcover_8</th>\n",
              "      <td>626644.0</td>\n",
              "      <td>1.157209e-03</td>\n",
              "      <td>0.009156</td>\n",
              "      <td>0.000000</td>\n",
              "      <td>0.000000</td>\n",
              "      <td>0.000000</td>\n",
              "      <td>0.000000</td>\n",
              "      <td>0.478727</td>\n",
              "    </tr>\n",
              "    <tr>\n",
              "      <th>population_density</th>\n",
              "      <td>607128.0</td>\n",
              "      <td>3.002247e+01</td>\n",
              "      <td>175.864136</td>\n",
              "      <td>0.000000</td>\n",
              "      <td>8.140170</td>\n",
              "      <td>14.146377</td>\n",
              "      <td>26.957529</td>\n",
              "      <td>9514.004270</td>\n",
              "    </tr>\n",
              "    <tr>\n",
              "      <th>precipitation</th>\n",
              "      <td>626644.0</td>\n",
              "      <td>1.817628e-01</td>\n",
              "      <td>0.130271</td>\n",
              "      <td>0.000000</td>\n",
              "      <td>0.078666</td>\n",
              "      <td>0.171292</td>\n",
              "      <td>0.261780</td>\n",
              "      <td>1.187434</td>\n",
              "    </tr>\n",
              "  </tbody>\n",
              "</table>\n",
              "</div>"
            ],
            "text/plain": [
              "                       count          mean  ...          75%          max\n",
              "area                626644.0  1.910000e+03  ...  2865.000000  3820.000000\n",
              "lat                 626644.0  2.374398e+01  ...    26.956000    31.096000\n",
              "lon                 626644.0 -2.859994e+00  ...     0.857000     5.296000\n",
              "burn_area           626644.0  1.490376e-02  ...     0.000000     0.952641\n",
              "climate_aet         626644.0  8.689074e+02  ...  1056.306879  1666.262670\n",
              "climate_def         626644.0  2.235093e+02  ...   333.155481  2048.897442\n",
              "climate_pdsi        626644.0 -2.587147e+02  ...  -110.273937  1131.222423\n",
              "climate_pet         626644.0  1.092417e+03  ...  1184.196489  2125.220848\n",
              "climate_pr          626644.0  1.258686e+02  ...   184.165079  1111.881507\n",
              "climate_ro          626644.0  3.882393e+01  ...    63.968079  1028.775818\n",
              "climate_soil        626644.0  9.394601e+02  ...  1362.433666  3508.381210\n",
              "climate_srad        626644.0  1.893145e+03  ...  2078.610153  2962.535010\n",
              "climate_swe         626644.0  6.250306e-07  ...     0.000000     0.277248\n",
              "climate_tmmn        626644.0  1.857180e+02  ...   201.358784   251.821796\n",
              "climate_tmmx        626644.0  2.991491e+02  ...   309.136060   374.382920\n",
              "climate_vap         626644.0  2.331860e+03  ...  2613.203412  3192.843792\n",
              "climate_vpd         626644.0  8.847116e+01  ...   101.447069   313.996748\n",
              "climate_vs          626644.0  1.429748e+02  ...   170.041921   463.386183\n",
              "elevation           626644.0  6.919382e+02  ...   865.704085  2711.961772\n",
              "landcover_0         626644.0  1.245247e-02  ...     0.000000     1.000000\n",
              "landcover_1         626644.0  3.551044e-05  ...     0.000000     0.044034\n",
              "landcover_2         626644.0  7.714775e-01  ...     1.000000     1.000000\n",
              "landcover_3         626644.0  1.397882e-07  ...     0.000000     0.000615\n",
              "landcover_4         626644.0  1.881890e-01  ...     0.298845     1.000000\n",
              "landcover_5         626644.0  2.661026e-04  ...     0.000000     0.197675\n",
              "landcover_6         626644.0  2.638244e-02  ...     0.010451     0.991276\n",
              "landcover_7         626644.0  3.968510e-05  ...     0.000000     0.023099\n",
              "landcover_8         626644.0  1.157209e-03  ...     0.000000     0.478727\n",
              "population_density  607128.0  3.002247e+01  ...    26.957529  9514.004270\n",
              "precipitation       626644.0  1.817628e-01  ...     0.261780     1.187434\n",
              "\n",
              "[30 rows x 8 columns]"
            ]
          },
          "metadata": {
            "tags": []
          },
          "execution_count": 16
        }
      ]
    },
    {
      "cell_type": "markdown",
      "metadata": {
        "id": "lHtLU0WkkhLv",
        "colab_type": "text"
      },
      "source": [
        "##Fill missing values with median"
      ]
    },
    {
      "cell_type": "code",
      "metadata": {
        "id": "GytveeRWkkUz",
        "colab_type": "code",
        "colab": {}
      },
      "source": [
        "train = train.fillna(train.median())\n",
        "test = test.fillna(test.median())"
      ],
      "execution_count": 0,
      "outputs": []
    },
    {
      "cell_type": "markdown",
      "metadata": {
        "id": "OFCLqKdqdJ_b",
        "colab_type": "text"
      },
      "source": [
        "##Exploratory Data Analysis"
      ]
    },
    {
      "cell_type": "markdown",
      "metadata": {
        "id": "a1q-yXnmeGhV",
        "colab_type": "text"
      },
      "source": [
        "###Bivariate Analysis with Target Variable"
      ]
    },
    {
      "cell_type": "code",
      "metadata": {
        "id": "fd-I-Yd1dIhN",
        "colab_type": "code",
        "colab": {
          "base_uri": "https://localhost:8080/",
          "height": 538
        },
        "outputId": "94c27814-2af9-4d26-841e-f73e4d442be0"
      },
      "source": [
        "# Correlation\n",
        "corr = train.corr()\n",
        "abs(corr['burn_area']).sort_values(ascending=False)"
      ],
      "execution_count": 18,
      "outputs": [
        {
          "output_type": "execute_result",
          "data": {
            "text/plain": [
              "burn_area             1.000000\n",
              "climate_def           0.442016\n",
              "climate_vap           0.419877\n",
              "climate_aet           0.406618\n",
              "climate_vpd           0.398767\n",
              "climate_tmmn          0.345935\n",
              "climate_pr            0.317021\n",
              "precipitation         0.307584\n",
              "landcover_4           0.292403\n",
              "climate_vs            0.291894\n",
              "climate_pet           0.278490\n",
              "landcover_2           0.277512\n",
              "area                  0.213872\n",
              "lon                   0.206958\n",
              "climate_srad          0.205351\n",
              "climate_ro            0.164609\n",
              "elevation             0.144853\n",
              "climate_soil          0.144808\n",
              "climate_tmmx          0.091304\n",
              "climate_pdsi          0.035575\n",
              "lat                   0.029356\n",
              "landcover_0           0.022881\n",
              "landcover_5           0.019955\n",
              "landcover_1           0.016296\n",
              "landcover_7           0.013988\n",
              "landcover_6           0.010682\n",
              "population_density    0.007800\n",
              "landcover_8           0.003629\n",
              "landcover_3           0.002836\n",
              "climate_swe           0.000415\n",
              "Name: burn_area, dtype: float64"
            ]
          },
          "metadata": {
            "tags": []
          },
          "execution_count": 18
        }
      ]
    },
    {
      "cell_type": "markdown",
      "metadata": {
        "id": "LOaMS9fEjB3h",
        "colab_type": "text"
      },
      "source": [
        "**Drop data**"
      ]
    },
    {
      "cell_type": "code",
      "metadata": {
        "id": "MILkq6ICT4CY",
        "colab_type": "code",
        "colab": {}
      },
      "source": [
        "# Remove as it's not improving accuracy\n",
        "'''\n",
        "to_drop = ['landcover_0', 'landcover_5', 'landcover_1', 'landcover_7', 'landcover_6', 'landcover_8', 'landcover_3', 'climate_swe']\n",
        "train = train.drop(to_drop, axis=1)\n",
        "test = test.drop(to_drop, axis=1)\n",
        "train\n",
        "'''"
      ],
      "execution_count": 0,
      "outputs": []
    },
    {
      "cell_type": "code",
      "metadata": {
        "id": "fjJe6dOFeWte",
        "colab_type": "code",
        "outputId": "5dbe6650-0760-4bee-d7a8-7b8d93c3174c",
        "colab": {
          "base_uri": "https://localhost:8080/",
          "height": 476
        }
      },
      "source": [
        "abs(train.corr()['burn_area']).sort_values(ascending=False).plot(kind='bar', figsize=(18, 6))"
      ],
      "execution_count": 19,
      "outputs": [
        {
          "output_type": "execute_result",
          "data": {
            "text/plain": [
              "<matplotlib.axes._subplots.AxesSubplot at 0x7f4500b4ff60>"
            ]
          },
          "metadata": {
            "tags": []
          },
          "execution_count": 19
        },
        {
          "output_type": "display_data",
          "data": {
            "image/png": "[encoded data removed]",
            "text/plain": [
              "<Figure size 1296x432 with 1 Axes>"
            ]
          },
          "metadata": {
            "tags": []
          }
        }
      ]
    },
    {
      "cell_type": "markdown",
      "metadata": {
        "id": "eXGv7DVbjx5Q",
        "colab_type": "text"
      },
      "source": [
        "###Multivariate Analysis"
      ]
    },
    {
      "cell_type": "code",
      "metadata": {
        "id": "yPUmx0qsjxNt",
        "colab_type": "code",
        "outputId": "cf99e69a-64c1-4492-d707-3af3b93bb52d",
        "colab": {
          "base_uri": "https://localhost:8080/",
          "height": 480
        }
      },
      "source": [
        "fig, ax = plt.subplots(figsize=(18,6))\n",
        "sns.heatmap(corr, cmap=\"YlGnBu\", ax=ax)"
      ],
      "execution_count": 20,
      "outputs": [
        {
          "output_type": "execute_result",
          "data": {
            "text/plain": [
              "<matplotlib.axes._subplots.AxesSubplot at 0x7f44e52a4d68>"
            ]
          },
          "metadata": {
            "tags": []
          },
          "execution_count": 20
        },
        {
          "output_type": "display_data",
          "data": {
            "image/png": "[encoded data removed]",
            "text/plain": [
              "<Figure size 1296x432 with 2 Axes>"
            ]
          },
          "metadata": {
            "tags": []
          }
        }
      ]
    },
    {
      "cell_type": "markdown",
      "metadata": {
        "id": "O6IWviXjlUUg",
        "colab_type": "text"
      },
      "source": [
        "**Scatter plots**\n"
      ]
    },
    {
      "cell_type": "markdown",
      "metadata": {
        "id": "W5GxH-gXlu2-",
        "colab_type": "text"
      },
      "source": [
        "##  Adding date features"
      ]
    },
    {
      "cell_type": "markdown",
      "metadata": {
        "id": "y9s2SYCelKw_",
        "colab_type": "text"
      },
      "source": [
        "**Create categorical variable for month likelihood of fire**"
      ]
    },
    {
      "cell_type": "code",
      "metadata": {
        "id": "vZ7_ZdxYlvsX",
        "colab_type": "code",
        "outputId": "290a09b5-614c-43ae-c3d3-e63d5ee5f891",
        "colab": {
          "base_uri": "https://localhost:8080/",
          "height": 302
        }
      },
      "source": [
        "# Date variables\n",
        "train['month'] = train.date.dt.month\n",
        "train['year'] = train.date.dt.year\n",
        "\n",
        "# Add the same features to test as we did to train:\n",
        "test['month'] = test.date.dt.month\n",
        "test['year'] = test.date.dt.year\n",
        "\n",
        "# Plotting mean burn_area for each month - very strong mid-year peak (dry season)\n",
        "train.groupby('month').mean().reset_index().plot(y='burn_area', x='month', kind='bar')"
      ],
      "execution_count": 33,
      "outputs": [
        {
          "output_type": "execute_result",
          "data": {
            "text/plain": [
              "<matplotlib.axes._subplots.AxesSubplot at 0x7f44fcad6f60>"
            ]
          },
          "metadata": {
            "tags": []
          },
          "execution_count": 33
        },
        {
          "output_type": "display_data",
          "data": {
            "image/png": "[encoded data removed]",
            "text/plain": [
              "<Figure size 432x288 with 1 Axes>"
            ]
          },
          "metadata": {
            "tags": []
          }
        }
      ]
    },
    {
      "cell_type": "markdown",
      "metadata": {
        "id": "ICICjrXCod8k",
        "colab_type": "text"
      },
      "source": [
        "**Create categorical data for seasons**"
      ]
    },
    {
      "cell_type": "code",
      "metadata": {
        "id": "pAp1OzBWsqGQ",
        "colab_type": "code",
        "colab": {}
      },
      "source": [
        "seasons = [1, 1, 1, 1, 1, 2, 2, 2, 1, 1, 1, 1]\n",
        "month_to_season = dict(zip(range(1,13), seasons))\n",
        "\n",
        "train['season']=train.month.map(month_to_season) \n",
        "test['season']=test.month.map(month_to_season) "
      ],
      "execution_count": 0,
      "outputs": []
    },
    {
      "cell_type": "code",
      "metadata": {
        "id": "phEHzUTRl2wr",
        "colab_type": "code",
        "outputId": "cd6075d2-90df-4618-b2b5-5156b3f26913",
        "colab": {
          "base_uri": "https://localhost:8080/",
          "height": 303
        }
      },
      "source": [
        "# Plot trend year-on-year\n",
        "train.groupby('year').mean().reset_index().plot(y='burn_area', x='year', ylim=(0, 0.03))"
      ],
      "execution_count": 23,
      "outputs": [
        {
          "output_type": "execute_result",
          "data": {
            "text/plain": [
              "<matplotlib.axes._subplots.AxesSubplot at 0x7f44fcb14390>"
            ]
          },
          "metadata": {
            "tags": []
          },
          "execution_count": 23
        },
        {
          "output_type": "display_data",
          "data": {
            "image/png": "[encoded data removed]",
            "text/plain": [
              "<Figure size 432x288 with 1 Axes>"
            ]
          },
          "metadata": {
            "tags": []
          }
        }
      ]
    },
    {
      "cell_type": "code",
      "metadata": {
        "id": "-peWQYVWmLtA",
        "colab_type": "code",
        "outputId": "d03d6b97-ab01-419b-add9-76268542cf10",
        "colab": {
          "base_uri": "https://localhost:8080/",
          "height": 289
        }
      },
      "source": [
        "# Let's plot precipitation and burn area on the same plot - note the inverse relationship, and the strong periodic component to both.\n",
        "ax = train.groupby('date').mean().reset_index().plot(y='burn_area', x='date')\n",
        "train.groupby('date').mean().reset_index().plot(y='precipitation', x='date', ax=ax)"
      ],
      "execution_count": 25,
      "outputs": [
        {
          "output_type": "execute_result",
          "data": {
            "text/plain": [
              "<matplotlib.axes._subplots.AxesSubplot at 0x7f44fb967e48>"
            ]
          },
          "metadata": {
            "tags": []
          },
          "execution_count": 25
        },
        {
          "output_type": "display_data",
          "data": {
            "image/png": "[encoded data removed]",
            "text/plain": [
              "<Figure size 432x288 with 1 Axes>"
            ]
          },
          "metadata": {
            "tags": []
          }
        }
      ]
    },
    {
      "cell_type": "markdown",
      "metadata": {
        "id": "IXOdwTrppmMB",
        "colab_type": "text"
      },
      "source": [
        "**Precipitation Feature**"
      ]
    },
    {
      "cell_type": "code",
      "metadata": {
        "id": "PowwT908oHT8",
        "colab_type": "code",
        "colab": {}
      },
      "source": [
        "a = pd.qcut(train['climate_pr'], q=2)\n",
        "a"
      ],
      "execution_count": 0,
      "outputs": []
    },
    {
      "cell_type": "code",
      "metadata": {
        "id": "S8g--cFao_rW",
        "colab_type": "code",
        "colab": {}
      },
      "source": [
        "\n",
        "## binning the precipitation\n",
        "bins = [-0.001, 129.643, 1111.882]\n",
        "labels = [1,2]\n",
        "\n",
        "# Not improving accuracy hence remove it\n",
        "'''\n",
        "train['is_peak_rainfall'] = pd.cut(train['climate_pr'], bins=bins, labels=labels).astype(int)\n",
        "train\n",
        "'''"
      ],
      "execution_count": 0,
      "outputs": []
    },
    {
      "cell_type": "code",
      "metadata": {
        "id": "_TnM2PiZpsL6",
        "colab_type": "code",
        "colab": {}
      },
      "source": [
        "b = pd.qcut(test['climate_pr'], q=2)\n",
        "b"
      ],
      "execution_count": 0,
      "outputs": []
    },
    {
      "cell_type": "code",
      "metadata": {
        "id": "5mawZf6ipzDb",
        "colab_type": "code",
        "colab": {}
      },
      "source": [
        "## binning the precipitation\n",
        "bins = [-0.001, 115.504, 597.041]\n",
        "labels = [1,2]\n",
        "\n",
        "# Not improving accuracy hence remove it\n",
        "'''\n",
        "test['is_peak_rainfall'] = pd.cut(test['climate_pr'], bins=bins, labels=labels).astype(int)\n",
        "test\n",
        "'''"
      ],
      "execution_count": 0,
      "outputs": []
    },
    {
      "cell_type": "markdown",
      "metadata": {
        "id": "fKqN-xVgmiFj",
        "colab_type": "text"
      },
      "source": [
        "# Data Split for Validation"
      ]
    },
    {
      "cell_type": "code",
      "metadata": {
        "id": "XtWDqvBsmjMq",
        "colab_type": "code",
        "colab": {}
      },
      "source": [
        "#train_all = train.copy().dropna()\n",
        "train_all = train\n",
        "train = train_all.loc[train_all.date < '2011-01-01']\n",
        "valid = train_all.loc[train_all.date > '2011-01-01']\n",
        "print(train.shape, valid.shape)\n",
        "train_all.info()"
      ],
      "execution_count": 0,
      "outputs": []
    },
    {
      "cell_type": "markdown",
      "metadata": {
        "id": "lwztNTPRmtD4",
        "colab_type": "text"
      },
      "source": [
        "##Build Models"
      ]
    },
    {
      "cell_type": "markdown",
      "metadata": {
        "id": "Js3bmt1ZnOXb",
        "colab_type": "text"
      },
      "source": [
        "###Train and validation splits"
      ]
    },
    {
      "cell_type": "code",
      "metadata": {
        "id": "SujKpH1umueI",
        "colab_type": "code",
        "outputId": "59db019e-ce19-4d82-c8e6-ea5fb6416708",
        "colab": {
          "base_uri": "https://localhost:8080/",
          "height": 151
        }
      },
      "source": [
        "# Define input and output columns\n",
        "in_cols = train.columns[6:]\n",
        "target_col = 'burn_area'\n",
        "in_cols"
      ],
      "execution_count": 38,
      "outputs": [
        {
          "output_type": "execute_result",
          "data": {
            "text/plain": [
              "Index(['climate_aet', 'climate_def', 'climate_pdsi', 'climate_pet',\n",
              "       'climate_pr', 'climate_ro', 'climate_soil', 'climate_srad',\n",
              "       'climate_swe', 'climate_tmmn', 'climate_tmmx', 'climate_vap',\n",
              "       'climate_vpd', 'climate_vs', 'elevation', 'landcover_0', 'landcover_1',\n",
              "       'landcover_2', 'landcover_3', 'landcover_4', 'landcover_5',\n",
              "       'landcover_6', 'landcover_7', 'landcover_8', 'population_density',\n",
              "       'precipitation', 'month', 'year', 'season'],\n",
              "      dtype='object')"
            ]
          },
          "metadata": {
            "tags": []
          },
          "execution_count": 38
        }
      ]
    },
    {
      "cell_type": "code",
      "metadata": {
        "id": "CZvLyaA5nDRw",
        "colab_type": "code",
        "colab": {}
      },
      "source": [
        "# Get our X and y training and validation sets ready\n",
        "X_train, y_train = train[in_cols], train[target_col]\n",
        "X_valid, y_valid = valid[in_cols], valid[target_col]"
      ],
      "execution_count": 0,
      "outputs": []
    },
    {
      "cell_type": "markdown",
      "metadata": {
        "id": "bMJaA3Amngoq",
        "colab_type": "text"
      },
      "source": [
        "###Models"
      ]
    },
    {
      "cell_type": "code",
      "metadata": {
        "id": "_ddew7m9mm5a",
        "colab_type": "code",
        "colab": {}
      },
      "source": [
        "# Family of trees performing best, comment out the rest to reduce training time\n",
        "models = []\n",
        "models.append(('ExtraTreesRegressor', ExtraTreesRegressor()))\n",
        "models.append(('RandomForest', RandomForestRegressor()))\n",
        "models.append(('Bag_Re', BaggingRegressor()))\n",
        "'''\n",
        "models.append(('Linear regression', LinearRegression()))\n",
        "models.append(('Ridge', Ridge()))\n",
        "models.append(('Ridge CV', RidgeCV()))\n",
        "models.append(('Lasso', Lasso()))\n",
        "models.append(('ElasticNet', ElasticNet()))\n",
        "models.append(('Bag_Re', BaggingRegressor()))\n",
        "models.append(('RandomForest', RandomForestRegressor()))\n",
        "models.append(('ExtraTreesRegressor', ExtraTreesRegressor()))\n",
        "models.append(('CART', DecisionTreeRegressor()))\n",
        "models.append(('KNN', KNeighborsRegressor()))\n",
        "models.append(('SVM', SVR()))\n",
        "'''"
      ],
      "execution_count": 0,
      "outputs": []
    },
    {
      "cell_type": "markdown",
      "metadata": {
        "id": "Ykb1NW_OnrlP",
        "colab_type": "text"
      },
      "source": [
        "**Build models and evaluate their performance**"
      ]
    },
    {
      "cell_type": "code",
      "metadata": {
        "id": "X5LOXMKLnpv7",
        "colab_type": "code",
        "colab": {}
      },
      "source": [
        "# Evaluations\n",
        "results = []\n",
        "names = []\n",
        "\n",
        "# Code commented out as it takes long to run\n",
        "'''\n",
        "for name, model in models:\n",
        "    # Fit the model\n",
        "    model.fit(X_train, y_train)\n",
        "    \n",
        "    predictions = model.predict(X_valid)\n",
        "    \n",
        "    # Evaluate the model\n",
        "    rmse = mean_squared_error(predictions, y_valid, squared=False)\n",
        "\n",
        "    results.append(rmse)\n",
        "    names.append(name)\n",
        "    \n",
        "    msg = \"%s: %f \" % (name, rmse)\n",
        "    print(msg)\n",
        "'''"
      ],
      "execution_count": 0,
      "outputs": []
    },
    {
      "cell_type": "markdown",
      "metadata": {
        "id": "-13kKE9qLbj3",
        "colab_type": "text"
      },
      "source": [
        "####Voting regresssor"
      ]
    },
    {
      "cell_type": "markdown",
      "metadata": {
        "id": "uyzmhAp8p6-R",
        "colab_type": "text"
      },
      "source": [
        "**Ensemble model of RandomForest and VotingRegressor as they were the best performers**"
      ]
    },
    {
      "cell_type": "code",
      "metadata": {
        "id": "SkF7JLR3Lanm",
        "colab_type": "code",
        "colab": {}
      },
      "source": [
        "# Commented out as it doesn't improve accuracy\n",
        "forest = RandomForestRegressor()\n",
        "extra = ExtraTreesRegressor()\n",
        "\n",
        "'''\n",
        "er = VotingRegressor([('ef', extra), ('rf', forest)])\n",
        "\n",
        "er.fit(X_train, y_train)\n",
        "\n",
        "predictions = er.predict(X_valid)\n",
        "    \n",
        "# Evaluate the model\n",
        "rmse = mean_squared_error(predictions, y_valid, squared=False)\n",
        "rmse\n",
        " '''   "
      ],
      "execution_count": 0,
      "outputs": []
    },
    {
      "cell_type": "markdown",
      "metadata": {
        "id": "6gogfIvYaSfl",
        "colab_type": "text"
      },
      "source": [
        "**Test ExtraTreesRegressor Model**"
      ]
    },
    {
      "cell_type": "code",
      "metadata": {
        "id": "zzS-5a46aUzu",
        "colab_type": "code",
        "colab": {
          "base_uri": "https://localhost:8080/",
          "height": 34
        },
        "outputId": "6d6a5929-2202-4316-c9ff-72744a027221"
      },
      "source": [
        "# Create and fit the model\n",
        "model = ExtraTreesRegressor()\n",
        "model.fit(X_train, y_train)\n",
        "    \n",
        "predictions = model.predict(X_valid)\n",
        "    \n",
        "# Evaluate the model\n",
        "rmse = mean_squared_error(predictions, y_valid, squared=False)\n",
        "rmse"
      ],
      "execution_count": 42,
      "outputs": [
        {
          "output_type": "execute_result",
          "data": {
            "text/plain": [
              "0.032002588222244395"
            ]
          },
          "metadata": {
            "tags": []
          },
          "execution_count": 42
        }
      ]
    },
    {
      "cell_type": "markdown",
      "metadata": {
        "id": "ufPFuvQ7rPCW",
        "colab_type": "text"
      },
      "source": [
        "####Parameter Tuning"
      ]
    },
    {
      "cell_type": "markdown",
      "metadata": {
        "id": "57YMQBPtrTEH",
        "colab_type": "text"
      },
      "source": [
        "**Todo: Implement GridSearchCV**"
      ]
    },
    {
      "cell_type": "markdown",
      "metadata": {
        "id": "NSFbIhodZBZ8",
        "colab_type": "text"
      },
      "source": [
        "**Build Model**"
      ]
    },
    {
      "cell_type": "code",
      "metadata": {
        "id": "VCQptNTuZESp",
        "colab_type": "code",
        "outputId": "b5d22f6f-a7db-4d14-c802-29237fcce962",
        "colab": {
          "base_uri": "https://localhost:8080/",
          "height": 134
        }
      },
      "source": [
        "# Create and fit the model\n",
        "model = ExtraTreesRegressor()\n",
        "model.fit(train_all[in_cols], train_all[target_col])"
      ],
      "execution_count": 43,
      "outputs": [
        {
          "output_type": "execute_result",
          "data": {
            "text/plain": [
              "ExtraTreesRegressor(bootstrap=False, ccp_alpha=0.0, criterion='mse',\n",
              "                    max_depth=None, max_features='auto', max_leaf_nodes=None,\n",
              "                    max_samples=None, min_impurity_decrease=0.0,\n",
              "                    min_impurity_split=None, min_samples_leaf=1,\n",
              "                    min_samples_split=2, min_weight_fraction_leaf=0.0,\n",
              "                    n_estimators=100, n_jobs=None, oob_score=False,\n",
              "                    random_state=None, verbose=0, warm_start=False)"
            ]
          },
          "metadata": {
            "tags": []
          },
          "execution_count": 43
        }
      ]
    },
    {
      "cell_type": "markdown",
      "metadata": {
        "id": "HjOYFNAVZfw4",
        "colab_type": "text"
      },
      "source": [
        "**Submission file**"
      ]
    },
    {
      "cell_type": "code",
      "metadata": {
        "id": "HTQ44yakZkBm",
        "colab_type": "code",
        "outputId": "bd6bd202-4641-43d7-a772-06bf86c090a0",
        "colab": {
          "base_uri": "https://localhost:8080/",
          "height": 195
        }
      },
      "source": [
        "# Look at the sample submission file\n",
        "ss = pd.read_csv('SampleSubmission.csv')\n",
        "ss.head()"
      ],
      "execution_count": 44,
      "outputs": [
        {
          "output_type": "execute_result",
          "data": {
            "text/html": [
              "<div>\n",
              "<style scoped>\n",
              "    .dataframe tbody tr th:only-of-type {\n",
              "        vertical-align: middle;\n",
              "    }\n",
              "\n",
              "    .dataframe tbody tr th {\n",
              "        vertical-align: top;\n",
              "    }\n",
              "\n",
              "    .dataframe thead th {\n",
              "        text-align: right;\n",
              "    }\n",
              "</style>\n",
              "<table border=\"1\" class=\"dataframe\">\n",
              "  <thead>\n",
              "    <tr style=\"text-align: right;\">\n",
              "      <th></th>\n",
              "      <th>ID</th>\n",
              "      <th>Prediction</th>\n",
              "    </tr>\n",
              "  </thead>\n",
              "  <tbody>\n",
              "    <tr>\n",
              "      <th>0</th>\n",
              "      <td>0_2014-01-01</td>\n",
              "      <td>0</td>\n",
              "    </tr>\n",
              "    <tr>\n",
              "      <th>1</th>\n",
              "      <td>1_2014-01-01</td>\n",
              "      <td>0</td>\n",
              "    </tr>\n",
              "    <tr>\n",
              "      <th>2</th>\n",
              "      <td>2_2014-01-01</td>\n",
              "      <td>0</td>\n",
              "    </tr>\n",
              "    <tr>\n",
              "      <th>3</th>\n",
              "      <td>3_2014-01-01</td>\n",
              "      <td>0</td>\n",
              "    </tr>\n",
              "    <tr>\n",
              "      <th>4</th>\n",
              "      <td>4_2014-01-01</td>\n",
              "      <td>0</td>\n",
              "    </tr>\n",
              "  </tbody>\n",
              "</table>\n",
              "</div>"
            ],
            "text/plain": [
              "             ID  Prediction\n",
              "0  0_2014-01-01           0\n",
              "1  1_2014-01-01           0\n",
              "2  2_2014-01-01           0\n",
              "3  3_2014-01-01           0\n",
              "4  4_2014-01-01           0"
            ]
          },
          "metadata": {
            "tags": []
          },
          "execution_count": 44
        }
      ]
    },
    {
      "cell_type": "markdown",
      "metadata": {
        "id": "mBYtULF4ZLzh",
        "colab_type": "text"
      },
      "source": [
        "**Make Prediction**"
      ]
    },
    {
      "cell_type": "code",
      "metadata": {
        "id": "hcWoAvBJZPHF",
        "colab_type": "code",
        "outputId": "3782fa93-c53a-4b4c-dbae-ec00015d96fc",
        "colab": {
          "base_uri": "https://localhost:8080/",
          "height": 195
        }
      },
      "source": [
        "# Get predictions\n",
        "preds = model.predict(test[in_cols])\n",
        "\n",
        "# Add to submission dataframe\n",
        "ss['Prediction'] = preds\n",
        "\n",
        "# View\n",
        "ss.head()"
      ],
      "execution_count": 45,
      "outputs": [
        {
          "output_type": "execute_result",
          "data": {
            "text/html": [
              "<div>\n",
              "<style scoped>\n",
              "    .dataframe tbody tr th:only-of-type {\n",
              "        vertical-align: middle;\n",
              "    }\n",
              "\n",
              "    .dataframe tbody tr th {\n",
              "        vertical-align: top;\n",
              "    }\n",
              "\n",
              "    .dataframe thead th {\n",
              "        text-align: right;\n",
              "    }\n",
              "</style>\n",
              "<table border=\"1\" class=\"dataframe\">\n",
              "  <thead>\n",
              "    <tr style=\"text-align: right;\">\n",
              "      <th></th>\n",
              "      <th>ID</th>\n",
              "      <th>Prediction</th>\n",
              "    </tr>\n",
              "  </thead>\n",
              "  <tbody>\n",
              "    <tr>\n",
              "      <th>0</th>\n",
              "      <td>0_2014-01-01</td>\n",
              "      <td>0.159157</td>\n",
              "    </tr>\n",
              "    <tr>\n",
              "      <th>1</th>\n",
              "      <td>1_2014-01-01</td>\n",
              "      <td>0.141043</td>\n",
              "    </tr>\n",
              "    <tr>\n",
              "      <th>2</th>\n",
              "      <td>2_2014-01-01</td>\n",
              "      <td>0.252244</td>\n",
              "    </tr>\n",
              "    <tr>\n",
              "      <th>3</th>\n",
              "      <td>3_2014-01-01</td>\n",
              "      <td>0.217899</td>\n",
              "    </tr>\n",
              "    <tr>\n",
              "      <th>4</th>\n",
              "      <td>4_2014-01-01</td>\n",
              "      <td>0.300206</td>\n",
              "    </tr>\n",
              "  </tbody>\n",
              "</table>\n",
              "</div>"
            ],
            "text/plain": [
              "             ID  Prediction\n",
              "0  0_2014-01-01    0.159157\n",
              "1  1_2014-01-01    0.141043\n",
              "2  2_2014-01-01    0.252244\n",
              "3  3_2014-01-01    0.217899\n",
              "4  4_2014-01-01    0.300206"
            ]
          },
          "metadata": {
            "tags": []
          },
          "execution_count": 45
        }
      ]
    },
    {
      "cell_type": "code",
      "metadata": {
        "id": "yk4kKF8-ZZo7",
        "colab_type": "code",
        "colab": {}
      },
      "source": [
        "# Save ready for submission:\n",
        "ss.to_csv('sheila_extra_trees.csv', index=False)"
      ],
      "execution_count": 0,
      "outputs": []
    },
    {
      "cell_type": "code",
      "metadata": {
        "id": "9cVC0fkHhRJ8",
        "colab_type": "code",
        "colab": {}
      },
      "source": [
        ""
      ],
      "execution_count": 0,
      "outputs": []
    }
  ]
}